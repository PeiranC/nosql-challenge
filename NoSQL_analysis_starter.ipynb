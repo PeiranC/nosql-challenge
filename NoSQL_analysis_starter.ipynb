{
 "cells": [
  {
   "cell_type": "markdown",
   "id": "9a57c4c6",
   "metadata": {},
   "source": [
    "# Eat Safe, Love"
   ]
  },
  {
   "cell_type": "markdown",
   "id": "064ef857",
   "metadata": {},
   "source": [
    "## Notebook Set Up"
   ]
  },
  {
   "cell_type": "code",
   "execution_count": 5,
   "id": "3ecdd008",
   "metadata": {},
   "outputs": [],
   "source": [
    "# Import dependencies\n",
    "from pymongo import MongoClient\n",
    "from pprint import pprint\n",
    "import pandas as pd\n",
    "from decimal import Decimal"
   ]
  },
  {
   "cell_type": "code",
   "execution_count": 6,
   "id": "59390c4a",
   "metadata": {},
   "outputs": [],
   "source": [
    "# Create an instance of MongoClient\n",
    "client = MongoClient()"
   ]
  },
  {
   "cell_type": "code",
   "execution_count": 7,
   "id": "71e373c1",
   "metadata": {},
   "outputs": [],
   "source": [
    "# assign the uk_food database to a variable name\n",
    "db = client.uk_food"
   ]
  },
  {
   "cell_type": "code",
   "execution_count": 8,
   "id": "18ab463c",
   "metadata": {},
   "outputs": [
    {
     "name": "stdout",
     "output_type": "stream",
     "text": [
      "['establishments']\n"
     ]
    }
   ],
   "source": [
    "# review the collections in our database\n",
    "print(db.list_collection_names())"
   ]
  },
  {
   "cell_type": "code",
   "execution_count": 9,
   "id": "11c9f11b",
   "metadata": {},
   "outputs": [],
   "source": [
    "# assign the collection to a variable\n",
    "collection = db.establishments"
   ]
  },
  {
   "cell_type": "markdown",
   "id": "d5671434",
   "metadata": {},
   "source": [
    "## Part 3: Exploratory Analysis\n",
    "Unless otherwise stated, for each question: \n",
    "* Use `count_documents` to display the number of documents contained in the result.\n",
    "* Display the first document in the results using `pprint`.\n",
    "* Convert the result to a Pandas DataFrame, print the number of rows in the DataFrame, and display the first 10 rows."
   ]
  },
  {
   "cell_type": "markdown",
   "id": "314bd884",
   "metadata": {},
   "source": [
    "### 1. Which establishments have a hygiene score equal to 20?"
   ]
  },
  {
   "cell_type": "code",
   "execution_count": 10,
   "id": "c2da7648",
   "metadata": {},
   "outputs": [
    {
     "name": "stdout",
     "output_type": "stream",
     "text": [
      "Number of establishments with a hygiene score of 20: 41\n",
      "First document in results:\n",
      "{'AddressLine1': '5-6 Southfields Road',\n",
      " 'AddressLine2': 'Eastbourne',\n",
      " 'AddressLine3': 'East Sussex',\n",
      " 'AddressLine4': '',\n",
      " 'BusinessName': 'The Chase Rest Home',\n",
      " 'BusinessType': 'Caring Premises',\n",
      " 'BusinessTypeID': 5,\n",
      " 'ChangesByServerID': 0,\n",
      " 'Distance': 4613.888288172291,\n",
      " 'FHRSID': 110681,\n",
      " 'LocalAuthorityBusinessID': '4029',\n",
      " 'LocalAuthorityCode': '102',\n",
      " 'LocalAuthorityEmailAddress': 'Customerfirst@eastbourne.gov.uk',\n",
      " 'LocalAuthorityName': 'Eastbourne',\n",
      " 'LocalAuthorityWebSite': 'http://www.eastbourne.gov.uk/foodratings',\n",
      " 'NewRatingPending': False,\n",
      " 'Phone': '',\n",
      " 'PostCode': 'BN21 1BU',\n",
      " 'RatingDate': '2021-09-23T00:00:00',\n",
      " 'RatingKey': 'fhrs_0_en-gb',\n",
      " 'RatingValue': '0',\n",
      " 'RightToReply': '',\n",
      " 'SchemeType': 'FHRS',\n",
      " '_id': ObjectId('642b0ee9f2cee067fa0047c9'),\n",
      " 'geocode': {'latitude': Decimal128('50.769705'),\n",
      "             'longitude': Decimal128('0.27694')},\n",
      " 'links': [{'href': 'https://api.ratings.food.gov.uk/establishments/110681',\n",
      "            'rel': 'self'}],\n",
      " 'meta': {'dataSource': None,\n",
      "          'extractDate': '0001-01-01T00:00:00',\n",
      "          'itemCount': 0,\n",
      "          'pageNumber': 0,\n",
      "          'pageSize': 0,\n",
      "          'returncode': None,\n",
      "          'totalCount': 0,\n",
      "          'totalPages': 0},\n",
      " 'scores': {'ConfidenceInManagement': 20, 'Hygiene': 20, 'Structural': 20}}\n"
     ]
    }
   ],
   "source": [
    "# Find the establishments with a hygiene score of 20\n",
    "query = {'scores.Hygiene':20}\n",
    "# Use count_documents to display the number of documents in the result\n",
    "count = collection.count_documents(query)\n",
    "print(f\"Number of establishments with a hygiene score of 20: {count}\")\n",
    "# Display the first document in the results using pprint\n",
    "document = collection.find_one(query)\n",
    "print(\"First document in results:\")\n",
    "pprint(document)"
   ]
  },
  {
   "cell_type": "code",
   "execution_count": 11,
   "id": "a6e5cece",
   "metadata": {},
   "outputs": [
    {
     "name": "stdout",
     "output_type": "stream",
     "text": [
      "\n",
      "Number of rows in DataFrame: 0\n",
      "First 10 rows:\n",
      "Empty DataFrame\n",
      "Columns: []\n",
      "Index: []\n"
     ]
    }
   ],
   "source": [
    "# Convert the result to a Pandas DataFrame\n",
    "\n",
    "# Display the number of rows in the DataFrame\n",
    "\n",
    "# Display the first 10 rows of the DataFrame\n",
    "df = pd.DataFrame(list(collection.find({\"scores.Hygiene\": \"20\"})))\n",
    "print(f\"\\nNumber of rows in DataFrame: {len(df)}\")\n",
    "print(\"First 10 rows:\")\n",
    "print(df.head(10))"
   ]
  },
  {
   "cell_type": "markdown",
   "id": "0ef4395a",
   "metadata": {},
   "source": [
    "### 2. Which establishments in London have a `RatingValue` greater than or equal to 4?"
   ]
  },
  {
   "cell_type": "code",
   "execution_count": 16,
   "id": "93c63829",
   "metadata": {},
   "outputs": [
    {
     "name": "stdout",
     "output_type": "stream",
     "text": [
      "Number of establishments with London as the Local Authority and a RatingValue greater than or equal to 4: 41\n",
      "First document in results:\n",
      "{'AddressLine1': 'Oak Apple Farm Building 103 Sheernes Docks',\n",
      " 'AddressLine2': 'Sheppy Kent',\n",
      " 'AddressLine3': '',\n",
      " 'AddressLine4': '',\n",
      " 'BusinessName': \"Charlie's\",\n",
      " 'BusinessType': 'Other catering premises',\n",
      " 'BusinessTypeID': 7841,\n",
      " 'ChangesByServerID': 0,\n",
      " 'Distance': 4627.439467780196,\n",
      " 'FHRSID': 621707,\n",
      " 'LocalAuthorityBusinessID': 'PI/000025307',\n",
      " 'LocalAuthorityCode': '508',\n",
      " 'LocalAuthorityEmailAddress': 'publicprotection@cityoflondon.gov.uk',\n",
      " 'LocalAuthorityName': 'City of London Corporation',\n",
      " 'LocalAuthorityWebSite': 'http://www.cityoflondon.gov.uk/Corporation/homepage.htm',\n",
      " 'NewRatingPending': False,\n",
      " 'Phone': '',\n",
      " 'PostCode': 'ME12',\n",
      " 'RatingDate': '2021-10-18T00:00:00',\n",
      " 'RatingKey': 'fhrs_4_en-gb',\n",
      " 'RatingValue': '4',\n",
      " 'RightToReply': '',\n",
      " 'SchemeType': 'FHRS',\n",
      " '_id': ObjectId('642b0eeaf2cee067fa0061e8'),\n",
      " 'geocode': {'latitude': Decimal128('51.369321'),\n",
      "             'longitude': Decimal128('0.508551')},\n",
      " 'links': [{'href': 'https://api.ratings.food.gov.uk/establishments/621707',\n",
      "            'rel': 'self'}],\n",
      " 'meta': {'dataSource': None,\n",
      "          'extractDate': '0001-01-01T00:00:00',\n",
      "          'itemCount': 0,\n",
      "          'pageNumber': 0,\n",
      "          'pageSize': 0,\n",
      "          'returncode': None,\n",
      "          'totalCount': 0,\n",
      "          'totalPages': 0},\n",
      " 'scores': {'ConfidenceInManagement': 5, 'Hygiene': 5, 'Structural': 10}}\n"
     ]
    }
   ],
   "source": [
    "# Find the establishments with London as the Local Authority and has a RatingValue greater than or equal to 4.\n",
    "query = query = {'LocalAuthorityName':{'$regex':\"London\"}, 'RatingValue' :{'$gte':\"4\"}}\n",
    "\n",
    "\n",
    "# Use count_documents to display the number of documents in the result\n",
    "print(f\"Number of establishments with London as the Local Authority and a RatingValue greater than or equal to 4: {count}\")\n",
    "\n",
    "# Display the first document in the results using pprint\n",
    "document = collection.find_one(query)\n",
    "print(\"First document in results:\")\n",
    "pprint(document)"
   ]
  },
  {
   "cell_type": "code",
   "execution_count": 19,
   "id": "07e24ccb",
   "metadata": {},
   "outputs": [
    {
     "name": "stdout",
     "output_type": "stream",
     "text": [
      "\n",
      "Number of rows in DataFrame: 34\n",
      "First 10 rows:\n",
      "                        _id   FHRSID  ChangesByServerID  \\\n",
      "0  642b0eeaf2cee067fa0061e8   621707                  0   \n",
      "1  642b0eeaf2cee067fa006512  1130836                  0   \n",
      "2  642b0eeaf2cee067fa00705b   293783                  0   \n",
      "3  642b0eeaf2cee067fa007e5e  1315095                  0   \n",
      "4  642b0eeaf2cee067fa007e61   294474                  0   \n",
      "5  642b0eeaf2cee067fa008568   294900                  0   \n",
      "6  642b0eebf2cee067fa00a672  1252616                  0   \n",
      "7  642b0eebf2cee067fa00a676   293756                  0   \n",
      "8  642b0eebf2cee067fa00aa39   878523                  0   \n",
      "9  642b0eebf2cee067fa00aa55   293772                  0   \n",
      "\n",
      "  LocalAuthorityBusinessID                          BusinessName  \\\n",
      "0             PI/000025307                             Charlie's   \n",
      "1             PI/000034075               Mv City Cruises Erasmus   \n",
      "2             PI/000002614             Benfleet Motor Yacht Club   \n",
      "3             PI/000036464  Coombs Catering t/a The Lock and Key   \n",
      "4             PI/000014647              Tilbury Seafarers Centre   \n",
      "5             PI/000019066                            Mv Valulla   \n",
      "6             PI/000035653                             Froottree   \n",
      "7             PI/000002538                         Tereza Joanne   \n",
      "8             PI/000029844                      Brick Lane Brews   \n",
      "9             PI/000002585         The Nuance Group (UK) Limited   \n",
      "\n",
      "              BusinessType  BusinessTypeID  \\\n",
      "0  Other catering premises            7841   \n",
      "1  Other catering premises            7841   \n",
      "2  Other catering premises            7841   \n",
      "3  Restaurant/Cafe/Canteen               1   \n",
      "4  Restaurant/Cafe/Canteen               1   \n",
      "5  Other catering premises            7841   \n",
      "6  Other catering premises            7841   \n",
      "7  Other catering premises            7841   \n",
      "8  Restaurant/Cafe/Canteen               1   \n",
      "9        Retailers - other            4613   \n",
      "\n",
      "                                        AddressLine1  \\\n",
      "0         Oak Apple Farm Building 103 Sheernes Docks   \n",
      "1                                 Cherry Garden Pier   \n",
      "2                                         Ferry Road   \n",
      "3                                  Leslie Ford House   \n",
      "4                          Tenants Row Tilbury Docks   \n",
      "5  Reeds River Cruises LtdKings ReachRiver Thames...   \n",
      "6                   Tereza Joanne King George V Lock   \n",
      "7  Funcraft UK Ltd King George V Dock Woolwich Ma...   \n",
      "8                       Air side London City Airport   \n",
      "9                  Duty Free Shop Passenger Terminal   \n",
      "\n",
      "                           AddressLine2 AddressLine3  ...  \\\n",
      "0                           Sheppy Kent               ...   \n",
      "1      Cherry Garden Street Rotherhithe     Charlton  ...   \n",
      "2                  South Benfleet Essex               ...   \n",
      "3                               Tilbury     Charlton  ...   \n",
      "4                         Tilbury Essex               ...   \n",
      "5                                London               ...   \n",
      "6             Woolwich Manor Way London     Charlton  ...   \n",
      "7                                London               ...   \n",
      "8                                London               ...   \n",
      "9  London City AirportRoyal DocksLondon               ...   \n",
      "\n",
      "                               LocalAuthorityWebSite  \\\n",
      "0  http://www.cityoflondon.gov.uk/Corporation/hom...   \n",
      "1  http://www.cityoflondon.gov.uk/Corporation/hom...   \n",
      "2  http://www.cityoflondon.gov.uk/Corporation/hom...   \n",
      "3  http://www.cityoflondon.gov.uk/Corporation/hom...   \n",
      "4  http://www.cityoflondon.gov.uk/Corporation/hom...   \n",
      "5  http://www.cityoflondon.gov.uk/Corporation/hom...   \n",
      "6  http://www.cityoflondon.gov.uk/Corporation/hom...   \n",
      "7  http://www.cityoflondon.gov.uk/Corporation/hom...   \n",
      "8  http://www.cityoflondon.gov.uk/Corporation/hom...   \n",
      "9  http://www.cityoflondon.gov.uk/Corporation/hom...   \n",
      "\n",
      "             LocalAuthorityEmailAddress  \\\n",
      "0  publicprotection@cityoflondon.gov.uk   \n",
      "1  publicprotection@cityoflondon.gov.uk   \n",
      "2  publicprotection@cityoflondon.gov.uk   \n",
      "3  publicprotection@cityoflondon.gov.uk   \n",
      "4  publicprotection@cityoflondon.gov.uk   \n",
      "5  publicprotection@cityoflondon.gov.uk   \n",
      "6  publicprotection@cityoflondon.gov.uk   \n",
      "7  publicprotection@cityoflondon.gov.uk   \n",
      "8  publicprotection@cityoflondon.gov.uk   \n",
      "9  publicprotection@cityoflondon.gov.uk   \n",
      "\n",
      "                                              scores SchemeType  \\\n",
      "0  {'Hygiene': 5, 'Structural': 10, 'ConfidenceIn...       FHRS   \n",
      "1  {'Hygiene': 0, 'Structural': 5, 'ConfidenceInM...       FHRS   \n",
      "2  {'Hygiene': 0, 'Structural': 0, 'ConfidenceInM...       FHRS   \n",
      "3  {'Hygiene': 0, 'Structural': 5, 'ConfidenceInM...       FHRS   \n",
      "4  {'Hygiene': 0, 'Structural': 0, 'ConfidenceInM...       FHRS   \n",
      "5  {'Hygiene': 0, 'Structural': 0, 'ConfidenceInM...       FHRS   \n",
      "6  {'Hygiene': None, 'Structural': None, 'Confide...       FHRS   \n",
      "7  {'Hygiene': 0, 'Structural': 5, 'ConfidenceInM...       FHRS   \n",
      "8  {'Hygiene': 10, 'Structural': 5, 'ConfidenceIn...       FHRS   \n",
      "9  {'Hygiene': 0, 'Structural': 0, 'ConfidenceInM...       FHRS   \n",
      "\n",
      "                                             geocode RightToReply  \\\n",
      "0     {'longitude': 0.508551, 'latitude': 51.369321}                \n",
      "1  {'longitude': 0.249255999922752, 'latitude': 5...                \n",
      "2     {'longitude': 0.561954, 'latitude': 51.543831}                \n",
      "3  {'longitude': 0.346336990594864, 'latitude': 5...                \n",
      "4     {'longitude': 0.346325, 'latitude': 51.464078}                \n",
      "5     {'longitude': 0.287555, 'latitude': 51.504071}                \n",
      "6  {'longitude': 0.0693250000476837, 'latitude': ...                \n",
      "7     {'longitude': 0.069286, 'latitude': 51.501121}                \n",
      "8     {'longitude': 0.048006, 'latitude': 51.503733}                \n",
      "9     {'longitude': 0.047966, 'latitude': 51.504112}                \n",
      "\n",
      "      Distance NewRatingPending  \\\n",
      "0  4627.439468            False   \n",
      "1  4627.873179            False   \n",
      "2  4631.968418            False   \n",
      "3  4636.846754            False   \n",
      "4  4636.847650            False   \n",
      "5  4640.460834            False   \n",
      "6  4648.300000            False   \n",
      "7  4648.301822            False   \n",
      "8  4649.173485            False   \n",
      "9  4649.188826            False   \n",
      "\n",
      "                                                meta  \\\n",
      "0  {'dataSource': None, 'extractDate': '0001-01-0...   \n",
      "1  {'dataSource': None, 'extractDate': '0001-01-0...   \n",
      "2  {'dataSource': None, 'extractDate': '0001-01-0...   \n",
      "3  {'dataSource': None, 'extractDate': '0001-01-0...   \n",
      "4  {'dataSource': None, 'extractDate': '0001-01-0...   \n",
      "5  {'dataSource': None, 'extractDate': '0001-01-0...   \n",
      "6  {'dataSource': None, 'extractDate': '0001-01-0...   \n",
      "7  {'dataSource': None, 'extractDate': '0001-01-0...   \n",
      "8  {'dataSource': None, 'extractDate': '0001-01-0...   \n",
      "9  {'dataSource': None, 'extractDate': '0001-01-0...   \n",
      "\n",
      "                                               links  \n",
      "0  [{'rel': 'self', 'href': 'https://api.ratings....  \n",
      "1  [{'rel': 'self', 'href': 'http://api.ratings.f...  \n",
      "2  [{'rel': 'self', 'href': 'http://api.ratings.f...  \n",
      "3  [{'rel': 'self', 'href': 'http://api.ratings.f...  \n",
      "4  [{'rel': 'self', 'href': 'http://api.ratings.f...  \n",
      "5  [{'rel': 'self', 'href': 'http://api.ratings.f...  \n",
      "6  [{'rel': 'self', 'href': 'http://api.ratings.f...  \n",
      "7  [{'rel': 'self', 'href': 'http://api.ratings.f...  \n",
      "8  [{'rel': 'self', 'href': 'http://api.ratings.f...  \n",
      "9  [{'rel': 'self', 'href': 'http://api.ratings.f...  \n",
      "\n",
      "[10 rows x 28 columns]\n"
     ]
    }
   ],
   "source": [
    "# Convert the result to a Pandas DataFrame\n",
    "df = pd.DataFrame(list(collection.find(query)))\n",
    "\n",
    "# Display the number of rows in the DataFrame\n",
    "\n",
    "# Display the first 10 rows of the DataFrame\n",
    "print(f\"\\nNumber of rows in DataFrame: {len(df)}\")\n",
    "print(\"First 10 rows:\")\n",
    "print(df.head(10))"
   ]
  },
  {
   "cell_type": "markdown",
   "id": "4e570caf",
   "metadata": {},
   "source": [
    "### 3. What are the top 5 establishments with a `RatingValue` rating value of '5', sorted by lowest hygiene score, nearest to the new restaurant added, \"Penang Flavours\"?"
   ]
  },
  {
   "cell_type": "code",
   "execution_count": 22,
   "id": "7f599f3d",
   "metadata": {},
   "outputs": [],
   "source": [
    "# Search within 0.01 degree on either side of the latitude and longitude.\n",
    "# Rating value must equal 5\n",
    "# Sort by hygiene score\n",
    "\n",
    "degree_search = 0.01\n",
    "latitude = 51.490142\n",
    "longitude = 0.08384\n",
    "\n",
    "query = {\n",
    "    \"geocode.latitude\": {\"$gte\": latitude - degree_search, \"$lte\": latitude + degree_search},\n",
    "    \"geocode.longitude\": {\"$gte\": longitude - degree_search, \"$lte\": longitude + degree_search},\n",
    "    \"RatingValue\": \"5\"\n",
    "}\n",
    "sort = [(\"scores.Hygiene\", 1)]\n",
    "\n",
    "# Print the results\n",
    "result = collection.find(query).sort(sort).limit(5)"
   ]
  },
  {
   "cell_type": "code",
   "execution_count": 23,
   "id": "a6ad16f7",
   "metadata": {},
   "outputs": [
    {
     "name": "stdout",
     "output_type": "stream",
     "text": [
      "\n",
      "Number of rows in DataFrame: 5\n",
      "First 10 rows:\n",
      "                        _id   FHRSID  ChangesByServerID  \\\n",
      "0  642b0eebf2cee067fa00a031   694609                  0   \n",
      "1  642b0eebf2cee067fa00a048   695241                  0   \n",
      "2  642b0eebf2cee067fa00a04b   694478                  0   \n",
      "3  642b0eebf2cee067fa00a004   695223                  0   \n",
      "4  642b0eebf2cee067fa00a012  1380578                  0   \n",
      "\n",
      "  LocalAuthorityBusinessID                         BusinessName  \\\n",
      "0             PI/000116619                            Volunteer   \n",
      "1             PI/000179088              Plumstead Manor Nursery   \n",
      "2             PI/000086506                    Atlantic Fish Bar   \n",
      "3             PI/000178842                              Iceland   \n",
      "4                    14425  Howe and Co Fish and Chips - Van 17   \n",
      "\n",
      "                            BusinessType  BusinessTypeID  \\\n",
      "0                      Pub/bar/nightclub            7843   \n",
      "1                        Caring Premises               5   \n",
      "2                 Takeaway/sandwich shop            7844   \n",
      "3  Retailers - supermarkets/hypermarkets            7840   \n",
      "4                         Mobile caterer            7846   \n",
      "\n",
      "                                        AddressLine1 AddressLine2  \\\n",
      "0                    130 - 132 Plumstead High Street                \n",
      "1               Plumstead Manor School Old Mill Road                \n",
      "2                                   35 Lakedale Road                \n",
      "3                    144 - 146 Plumstead High Street                \n",
      "4  Restaurant And Premises 107A Plumstead High St...                \n",
      "\n",
      "  AddressLine3  ...             LocalAuthorityWebSite  \\\n",
      "0    Plumstead  ...  http://www.royalgreenwich.gov.uk   \n",
      "1    Plumstead  ...  http://www.royalgreenwich.gov.uk   \n",
      "2    Plumstead  ...  http://www.royalgreenwich.gov.uk   \n",
      "3    Plumstead  ...  http://www.royalgreenwich.gov.uk   \n",
      "4    Plumstead  ...  http://www.royalgreenwich.gov.uk   \n",
      "\n",
      "     LocalAuthorityEmailAddress  \\\n",
      "0  health@royalgreenwich.gov.uk   \n",
      "1  health@royalgreenwich.gov.uk   \n",
      "2  health@royalgreenwich.gov.uk   \n",
      "3  health@royalgreenwich.gov.uk   \n",
      "4  health@royalgreenwich.gov.uk   \n",
      "\n",
      "                                              scores SchemeType  \\\n",
      "0  {'Hygiene': 0, 'Structural': 0, 'ConfidenceInM...       FHRS   \n",
      "1  {'Hygiene': 0, 'Structural': 0, 'ConfidenceInM...       FHRS   \n",
      "2  {'Hygiene': 0, 'Structural': 0, 'ConfidenceInM...       FHRS   \n",
      "3  {'Hygiene': 0, 'Structural': 5, 'ConfidenceInM...       FHRS   \n",
      "4  {'Hygiene': 0, 'Structural': 0, 'ConfidenceInM...       FHRS   \n",
      "\n",
      "                                             geocode RightToReply  \\\n",
      "0     {'longitude': 0.09208, 'latitude': 51.4873437}                \n",
      "1  {'longitude': 0.0859939977526665, 'latitude': ...                \n",
      "2   {'longitude': 0.0912164, 'latitude': 51.4867296}                \n",
      "3  {'longitude': 0.0924199968576431, 'latitude': ...                \n",
      "4  {'longitude': 0.0925370007753372, 'latitude': ...                \n",
      "\n",
      "      Distance NewRatingPending  \\\n",
      "0  4646.965635            False   \n",
      "1  4646.974010            False   \n",
      "2  4646.974612            False   \n",
      "3  4646.946071            False   \n",
      "4  4646.955931            False   \n",
      "\n",
      "                                                meta  \\\n",
      "0  {'dataSource': None, 'extractDate': '0001-01-0...   \n",
      "1  {'dataSource': None, 'extractDate': '0001-01-0...   \n",
      "2  {'dataSource': None, 'extractDate': '0001-01-0...   \n",
      "3  {'dataSource': None, 'extractDate': '0001-01-0...   \n",
      "4  {'dataSource': None, 'extractDate': '0001-01-0...   \n",
      "\n",
      "                                               links  \n",
      "0  [{'rel': 'self', 'href': 'http://api.ratings.f...  \n",
      "1  [{'rel': 'self', 'href': 'http://api.ratings.f...  \n",
      "2  [{'rel': 'self', 'href': 'http://api.ratings.f...  \n",
      "3  [{'rel': 'self', 'href': 'http://api.ratings.f...  \n",
      "4  [{'rel': 'self', 'href': 'http://api.ratings.f...  \n",
      "\n",
      "[5 rows x 28 columns]\n"
     ]
    }
   ],
   "source": [
    "# Convert result to Pandas DataFrame\n",
    "df = pd.DataFrame(list(result))\n",
    "print(f\"\\nNumber of rows in DataFrame: {len(df)}\")\n",
    "print(\"First 10 rows:\")\n",
    "print(df.head(10))"
   ]
  },
  {
   "cell_type": "markdown",
   "id": "67281254",
   "metadata": {},
   "source": [
    "### 4. How many establishments in each Local Authority area have a hygiene score of 0?"
   ]
  },
  {
   "cell_type": "code",
   "execution_count": 27,
   "id": "4eeb227e",
   "metadata": {},
   "outputs": [
    {
     "name": "stdout",
     "output_type": "stream",
     "text": [
      "Number of establishments with a hygiene score of 0, grouped by Local Authority and sorted from highest to lowest: 0\n",
      "First 10 results:\n",
      "[]\n"
     ]
    }
   ],
   "source": [
    "# Create a pipeline that: \n",
    "# 1. Matches establishments with a hygiene score of 0\n",
    "# 2. Groups the matches by Local Authority\n",
    "# 3. Sorts the matches from highest to lowest\n",
    "pipeline = [\n",
    "    {\"$match\": {\"scores.Hygiene\": \"0\"}},\n",
    "    {\"$group\": {\"_id\": \"$LocalAuthorityName\", \"count\": {\"$sum\": 1}}},\n",
    "    {\"$sort\": {\"count\": -1}}\n",
    "]\n",
    "\n",
    "result = list(collection.aggregate(pipeline))\n",
    "\n",
    "\n",
    "\n",
    "# Print the number of documents in the result\n",
    "print(f\"Number of establishments with a hygiene score of 0, grouped by Local Authority and sorted from highest to lowest: {len(result)}\")\n",
    "\n",
    "\n",
    "\n",
    "# Print the first 10 results\n",
    "print(\"First 10 results:\")\n",
    "pprint(result[:10])\n",
    "\n"
   ]
  },
  {
   "cell_type": "code",
   "execution_count": 30,
   "id": "d8aab364",
   "metadata": {},
   "outputs": [
    {
     "name": "stdout",
     "output_type": "stream",
     "text": [
      "Number of rows in DataFrame: 0\n",
      "First 10 rows:\n",
      "Empty DataFrame\n",
      "Columns: []\n",
      "Index: []\n"
     ]
    }
   ],
   "source": [
    "# Convert the result to a Pandas DataFrame\n",
    "\n",
    "df = pd.DataFrame(result)\n",
    "\n",
    "# Display the number of rows in the DataFrame\n",
    "\n",
    "print(f\"Number of rows in DataFrame: {len(df)}\")\n",
    "\n",
    "# Display the first 10 rows of the DataFrame\n",
    "\n",
    "print(\"First 10 rows:\")\n",
    "print(df.head(10))"
   ]
  }
 ],
 "metadata": {
  "kernelspec": {
   "display_name": "Python 3 (ipykernel)",
   "language": "python",
   "name": "python3"
  },
  "language_info": {
   "codemirror_mode": {
    "name": "ipython",
    "version": 3
   },
   "file_extension": ".py",
   "mimetype": "text/x-python",
   "name": "python",
   "nbconvert_exporter": "python",
   "pygments_lexer": "ipython3",
   "version": "3.7.7"
  }
 },
 "nbformat": 4,
 "nbformat_minor": 5
}
